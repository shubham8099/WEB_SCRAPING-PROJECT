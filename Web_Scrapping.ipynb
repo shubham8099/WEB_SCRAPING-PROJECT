{
 "cells": [
  {
   "cell_type": "code",
   "execution_count": 4,
   "id": "5076ac48-cf82-4df8-b358-741dbd9a37a4",
   "metadata": {},
   "outputs": [],
   "source": [
    "# jai maa sarawati \n",
    "import bs4\n",
    "import requests"
   ]
  },
  {
   "cell_type": "code",
   "execution_count": 5,
   "id": "fa1ff945-e776-48de-aa0c-675bd560d36d",
   "metadata": {},
   "outputs": [],
   "source": [
    "url = \"https://adtu.in/about\"\n",
    "data = requests.get(url)\n",
    "soup = bs4.BeautifulSoup(data.text ,\"html.parser\")\n",
    "#print(soup.prettify())"
   ]
  },
  {
   "cell_type": "code",
   "execution_count": 12,
   "id": "acc4fdbe-53ef-43b9-90f7-9c4e9d73716f",
   "metadata": {},
   "outputs": [
    {
     "name": "stdout",
     "output_type": "stream",
     "text": [
      "<a class=\"text-white eml-protected\" data-email=\"9cfdf8f1f5efeff5f3f2dcfdf8e8e9b2f5f2\" href=\"#\" id=\"admission-mail\"><span style=\"color: #edab60\">[Protected Email]</span></a>\n"
     ]
    }
   ],
   "source": [
    "for para in soup.find('p'):\n",
    "    print(para)"
   ]
  },
  {
   "cell_type": "code",
   "execution_count": 14,
   "id": "eb602735-ca7d-4c2a-91a7-9dfbf2d60cfd",
   "metadata": {},
   "outputs": [
    {
     "name": "stdout",
     "output_type": "stream",
     "text": [
      "[Protected Email]\n",
      "+91 98641 37777,  +91 361 7110711 \n",
      "My AdtU Login\n",
      "50+ Acres CampusJust 6KM away from Guwahati, Narengi\n",
      "[+] Message from Chancellor[+] Message from Vice Chancellor[+] Message from Pro Vice Chancellor[+] Message from Dean of Studies\n",
      "UGC | NAAC | SIRO | AICTE |Govt of Assam | INC |  PCI | IAP |  SGS- ISO 9001:2015 \n",
      "The Assam down town University is promoted by down town Charity Trust was formed by down town hospital ltd Read More\n",
      "  [+] About Us  [+] About dtCT [+] Leadership[+] Governance [+] The AdtU ACT [+] Privacy Policy [+] Terms & Conditions [+] Vision, Mission and Core Values \n",
      "Guwahati (ancient name, Pragjyotishpura), is the largest city of the state, Assam and also of the entire North Eastern Region of India. It is situated on the southern banks of the mighty river, Brahmaputra. Dotted with ancient temples, Guwahati is also known as the ‘City of Temples’.\n",
      "With more than 200+ recruitment organisations, the place you want to be.\n"
     ]
    }
   ],
   "source": [
    "for para in soup.find_all('p'):\n",
    "    print(para.text)"
   ]
  },
  {
   "cell_type": "code",
   "execution_count": null,
   "id": "f2078ea8-813b-41c0-ba55-6cf67242ab4a",
   "metadata": {},
   "outputs": [],
   "source": []
  }
 ],
 "metadata": {
  "kernelspec": {
   "display_name": "Python 3 (ipykernel)",
   "language": "python",
   "name": "python3"
  },
  "language_info": {
   "codemirror_mode": {
    "name": "ipython",
    "version": 3
   },
   "file_extension": ".py",
   "mimetype": "text/x-python",
   "name": "python",
   "nbconvert_exporter": "python",
   "pygments_lexer": "ipython3",
   "version": "3.10.8"
  }
 },
 "nbformat": 4,
 "nbformat_minor": 5
}
